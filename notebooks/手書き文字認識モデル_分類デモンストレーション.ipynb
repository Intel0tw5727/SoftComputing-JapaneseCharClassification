{
 "cells": [
  {
   "cell_type": "markdown",
   "metadata": {},
   "source": [
    "#  手書き認識文字モデルのデモンストレーション"
   ]
  },
  {
   "cell_type": "code",
   "execution_count": null,
   "metadata": {},
   "outputs": [],
   "source": [
    "# 画像や前処理周りのimport\n",
    "import cv2\n",
    "import numpy as np\n",
    "import matplotlib.pyplot as plt\n",
    "import os\n",
    "import sys\n",
    "import time\n",
    "from tqdm import tqdm_notebook as tqdm\n",
    "import pandas as pd\n",
    "%matplotlib inline\n",
    "\n",
    "from sklearn.model_selection import train_test_split\n",
    "\n",
    "# 深層学習周りのimport\n",
    "import keras\n",
    "from keras.models import Sequential, model_from_json\n",
    "from keras.layers import Dense, Dropout, Flatten, Conv2D, MaxPooling2D, Dropout\n",
    "from keras.utils import np_utils\n",
    "from keras.optimizers import SGD, Adadelta, Adam, RMSprop\n",
    "from keras.callbacks import ModelCheckpoint, EarlyStopping"
   ]
  },
  {
   "cell_type": "code",
   "execution_count": null,
   "metadata": {},
   "outputs": [],
   "source": [
    "# バージョン確認\n",
    "import matplotlib\n",
    "import sklearn\n",
    "import tqdm as tm\n",
    "print(\"numpy => {}\".format(np.__version__))\n",
    "print(\"matplotlib => {}\".format(matplotlib.__version__))\n",
    "print(\"pandas => {}\".format(pd.__version__))\n",
    "print(\"OpenCV => {}\".format(cv2.__version__))\n",
    "print(\"tqdm => {}\".format(tm.__version__))\n",
    "print(\"scikit-learn => {}\".format(sklearn.__version__))\n",
    "print(\"keras => {}\".format(keras.__version__))"
   ]
  },
  {
   "cell_type": "markdown",
   "metadata": {},
   "source": [
    "## データセット文字コード対応表の読み込み\n",
    "ひらがなと漢字の2つの対応表を読み込みます。"
   ]
  },
  {
   "cell_type": "code",
   "execution_count": null,
   "metadata": {},
   "outputs": [],
   "source": [
    "df_hi = pd.read_csv(\"../data/hiragana_table.csv\")"
   ]
  },
  {
   "cell_type": "code",
   "execution_count": null,
   "metadata": {},
   "outputs": [],
   "source": [
    "df_hi.head()"
   ]
  },
  {
   "cell_type": "code",
   "execution_count": null,
   "metadata": {},
   "outputs": [],
   "source": [
    "df_ka = pd.read_csv(\"../data/kanji_table.csv\")"
   ]
  },
  {
   "cell_type": "code",
   "execution_count": null,
   "metadata": {},
   "outputs": [],
   "source": [
    "df_ka.head()"
   ]
  },
  {
   "cell_type": "markdown",
   "metadata": {},
   "source": [
    "今回のテストに使用するデータを読み込んでいきます。"
   ]
  },
  {
   "cell_type": "code",
   "execution_count": null,
   "metadata": {},
   "outputs": [],
   "source": [
    "def sampling(chars, dir_path, df):\n",
    "    img_list = []\n",
    "    label_list = []\n",
    "    using_dirs = [df[df[\"char\"] == c][\"dir\"].values[0] for c in chars]\n",
    "    for using_dir in tqdm(using_dirs):\n",
    "        imgs_path = os.path.join(dir_path, using_dir)\n",
    "        img_list.append(cv2.imread(os.path.join(imgs_path, os.listdir(imgs_path)[0])))\n",
    "        label_list.append(df[df[\"dir\"] == using_dir].index[0])\n",
    "    \n",
    "    return img_list, label_list"
   ]
  },
  {
   "cell_type": "code",
   "execution_count": null,
   "metadata": {},
   "outputs": [],
   "source": [
    "using_hiraganas = \"そふとこんぴゆうていんぐ\"\n",
    "hi_dir_path = \"../data/hiragana73\"\n",
    "\n",
    "hi_imgs, hi_labels = sampling(using_hiraganas, hi_dir_path, df_hi)"
   ]
  },
  {
   "cell_type": "code",
   "execution_count": null,
   "metadata": {},
   "outputs": [],
   "source": [
    "fig, ax = plt.subplots(1, len(hi_imgs), figsize=(18,6))\n",
    "for i, img in enumerate(hi_imgs):\n",
    "    ax[i].imshow(img)\n",
    "    ax[i].axis(\"off\")\n",
    "plt.show()\n",
    "print(hi_labels)"
   ]
  },
  {
   "cell_type": "code",
   "execution_count": null,
   "metadata": {},
   "outputs": [],
   "source": [
    "using_kanjis = \"一九東南西北白發中國士無又又\"\n",
    "ka_dir_path = \"../data/kanji300\""
   ]
  },
  {
   "cell_type": "code",
   "execution_count": null,
   "metadata": {},
   "outputs": [],
   "source": [
    "ka_imgs, ka_labels = sampling(using_kanjis, ka_dir_path, df_ka)"
   ]
  },
  {
   "cell_type": "code",
   "execution_count": null,
   "metadata": {},
   "outputs": [],
   "source": [
    "fig, ax = plt.subplots(1, len(ka_imgs), figsize=(18,6))\n",
    "for i, img in enumerate(ka_imgs):\n",
    "    ax[i].imshow(img)\n",
    "    ax[i].axis(\"off\")\n",
    "plt.show()\n",
    "print(ka_labels)"
   ]
  },
  {
   "cell_type": "markdown",
   "metadata": {},
   "source": [
    "## データ前処理\n",
    "\n",
    "学習に使用した画像に前処理を行った人は、関数を置き換えて実行してください。"
   ]
  },
  {
   "cell_type": "code",
   "execution_count": null,
   "metadata": {},
   "outputs": [],
   "source": [
    "def preprocessing(img_list):\n",
    "    img_prop_list = []\n",
    "    flag = False\n",
    "    for img in tqdm(img_list):\n",
    "        img_gray = cv2.cvtColor(img, cv2.COLOR_BGR2GRAY) # グレースケール化\n",
    "        img_resize = cv2.resize(img_gray, (28,28)) # リサイズ\n",
    "        _, img_prop = cv2.threshold(img_resize, 0, 255, \\\n",
    "                                    cv2.THRESH_BINARY + cv2.THRESH_OTSU) # 2値化\n",
    "\n",
    "        if flag == False: \n",
    "            # 初回のみplot\n",
    "            fig, ax = plt.subplots(1, 3, figsize=(18,8))\n",
    "            titles = [\"gray_scaled\", \"resized\", \"binarized\"]\n",
    "            imgs = [img_gray, img_resize, img_prop]\n",
    "            for n, (k, v) in enumerate(zip(titles, imgs)):\n",
    "                ax[n].imshow(v, cmap=\"gray\")\n",
    "                # ax[n].axis(\"off\")\n",
    "                ax[n].set_title(\"{}\".format(k))\n",
    "            flag = True\n",
    "\n",
    "        img_prop_list.append(img_prop)\n",
    "    return img_prop_list"
   ]
  },
  {
   "cell_type": "code",
   "execution_count": null,
   "metadata": {},
   "outputs": [],
   "source": [
    "hi_imgs = preprocessing(hi_imgs)"
   ]
  },
  {
   "cell_type": "code",
   "execution_count": null,
   "metadata": {},
   "outputs": [],
   "source": [
    "ka_imgs = preprocessing(ka_imgs)"
   ]
  },
  {
   "cell_type": "code",
   "execution_count": null,
   "metadata": {},
   "outputs": [],
   "source": [
    "nb_classes = len(df_hi)\n",
    "hi_labels = np_utils.to_categorical(hi_labels, nb_classes)"
   ]
  },
  {
   "cell_type": "code",
   "execution_count": null,
   "metadata": {},
   "outputs": [],
   "source": [
    "nb_classes = len(df_ka)\n",
    "ka_labels = np_utils.to_categorical(ka_labels, nb_classes)"
   ]
  },
  {
   "cell_type": "markdown",
   "metadata": {},
   "source": [
    "## モデルの読み込みとコンパイル\n",
    "各自コンパイルの際に使用した最適化関数や誤差関数を変更して実行しましょう"
   ]
  },
  {
   "cell_type": "code",
   "execution_count": null,
   "metadata": {},
   "outputs": [],
   "source": [
    "hi_model = model_from_json(open(\"../models/hiragana_cnn.json\", \"r\").read())\n",
    "hi_model.load_weights(\"../models/hiragana_cnn_best_weight.hdf5\")\n",
    "\n",
    "ka_model = model_from_json(open(\"../models/kanji_cnn.json\", \"r\").read())\n",
    "ka_model.load_weights(\"../models/kanji_cnn_best_weight.hdf5\")"
   ]
  },
  {
   "cell_type": "code",
   "execution_count": null,
   "metadata": {},
   "outputs": [],
   "source": [
    "hi_model.compile(loss=\"categorical_crossentropy\", # 誤差(損失)関数\n",
    "             optimizer=\"RMSprop\", # 最適化関数\n",
    "             metrics=[\"accuracy\"] # 評価指標\n",
    "             )\n",
    "ka_model.compile(loss=\"categorical_crossentropy\", # 誤差(損失)関数\n",
    "             optimizer=\"RMSprop\", # 最適化関数\n",
    "             metrics=[\"accuracy\"] # 評価指標\n",
    "             )"
   ]
  },
  {
   "cell_type": "markdown",
   "metadata": {},
   "source": [
    "## 学習結果の可視化"
   ]
  },
  {
   "cell_type": "code",
   "execution_count": null,
   "metadata": {},
   "outputs": [],
   "source": [
    "hi_score = hi_model.evaluate(np.array(hi_imgs), hi_labels, verbose=0)\n",
    "print('Test score:', hi_score[0])\n",
    "print('Test accuracy:', hi_score[1])"
   ]
  },
  {
   "cell_type": "code",
   "execution_count": null,
   "metadata": {},
   "outputs": [],
   "source": [
    "ka_score = ka_model.evaluate(np.array(ka_imgs), ka_labels, verbose=0)\n",
    "print('Test score:', ka_score[0])\n",
    "print('Test accuracy:', ka_score[1])"
   ]
  },
  {
   "cell_type": "markdown",
   "metadata": {},
   "source": [
    "## 予測の可視化"
   ]
  },
  {
   "cell_type": "code",
   "execution_count": null,
   "metadata": {},
   "outputs": [],
   "source": [
    "hi_tests = np.array(hi_imgs).reshape(len(hi_imgs), 28, 28, 1)\n",
    "ka_tests =  np.array(hi_imgs).reshape(len(hi_imgs), 28, 28, 1)"
   ]
  },
  {
   "cell_type": "code",
   "execution_count": null,
   "metadata": {},
   "outputs": [],
   "source": [
    "hi_test_pred = hi_model.predict(hi_tests)"
   ]
  },
  {
   "cell_type": "code",
   "execution_count": null,
   "metadata": {},
   "outputs": [],
   "source": [
    "fig, ax = plt.subplots(1, len(hi_imgs), figsize=(18,6))\n",
    "for i, img in enumerate(hi_imgs):\n",
    "    ax[i].imshow(img)\n",
    "    ax[i].axis(\"off\")\n",
    "plt.show()"
   ]
  },
  {
   "cell_type": "code",
   "execution_count": null,
   "metadata": {},
   "outputs": [],
   "source": [
    "# 予測の可視化\n",
    "[df_hi.loc[hi_pred.argmax()][\"char\"] for hi_pred in hi_test_pred]"
   ]
  },
  {
   "cell_type": "code",
   "execution_count": null,
   "metadata": {},
   "outputs": [],
   "source": [
    "ka_test_pred = ka_model.predict(ka_tests)"
   ]
  },
  {
   "cell_type": "code",
   "execution_count": null,
   "metadata": {},
   "outputs": [],
   "source": [
    "fig, ax = plt.subplots(1, len(ka_imgs), figsize=(18,6))\n",
    "for i, img in enumerate(ka_imgs):\n",
    "    ax[i].imshow(img)\n",
    "    ax[i].axis(\"off\")\n",
    "plt.show()"
   ]
  },
  {
   "cell_type": "code",
   "execution_count": null,
   "metadata": {},
   "outputs": [],
   "source": [
    "# 予測の可視化\n",
    "[df_ka.loc[ka_pred.argmax()][\"char\"] for ka_pred in ka_test_pred]"
   ]
  }
 ],
 "metadata": {
  "kernelspec": {
   "display_name": "Python 3",
   "language": "python",
   "name": "python3"
  },
  "language_info": {
   "codemirror_mode": {
    "name": "ipython",
    "version": 3
   },
   "file_extension": ".py",
   "mimetype": "text/x-python",
   "name": "python",
   "nbconvert_exporter": "python",
   "pygments_lexer": "ipython3",
   "version": "3.6.4"
  }
 },
 "nbformat": 4,
 "nbformat_minor": 2
}
